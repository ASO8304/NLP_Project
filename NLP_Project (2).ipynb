{
  "cells": [
    {
      "cell_type": "markdown",
      "metadata": {
        "id": "xkng0cr5eCrI"
      },
      "source": [
        "# Step 1: Data Loading and Preprocessing"
      ]
    },
    {
      "cell_type": "markdown",
      "metadata": {
        "id": "-EtHrojDa_pR"
      },
      "source": [
        "## 1.1 | Imports & Setup"
      ]
    },
    {
      "cell_type": "code",
      "execution_count": 6,
      "metadata": {
        "id": "3egHl0-fadLM",
        "colab": {
          "base_uri": "https://localhost:8080/"
        },
        "outputId": "8132f4f2-6775-48ea-9252-49b66313f28b"
      },
      "outputs": [
        {
          "output_type": "stream",
          "name": "stdout",
          "text": [
            "[]\n"
          ]
        }
      ],
      "source": [
        "import pandas as pd\n",
        "from pathlib import Path\n",
        "import json\n",
        "import numpy as np\n",
        "import tensorflow as tf\n",
        "print(tf.config.list_physical_devices('GPU'))\n",
        "from tensorflow.keras import layers, models\n",
        "from pathlib import Path\n",
        "from tensorflow.keras.callbacks import ModelCheckpoint, BackupAndRestore, EarlyStopping\n",
        "from google.colab import drive\n",
        "import glob, os, re\n",
        "from pathlib import Path"
      ]
    },
    {
      "cell_type": "markdown",
      "metadata": {
        "id": "Ve4dTaembPD3"
      },
      "source": [
        "## 1.2 | Load the Raw Dataset"
      ]
    },
    {
      "cell_type": "code",
      "execution_count": 7,
      "metadata": {
        "colab": {
          "base_uri": "https://localhost:8080/",
          "height": 776
        },
        "id": "y5xP6S5ybOHq",
        "outputId": "7feca7fd-f9e5-4fc9-b380-33e0f8b668ec"
      },
      "outputs": [
        {
          "output_type": "stream",
          "name": "stdout",
          "text": [
            "Requirement already satisfied: gdown in /usr/local/lib/python3.11/dist-packages (5.2.0)\n",
            "Requirement already satisfied: beautifulsoup4 in /usr/local/lib/python3.11/dist-packages (from gdown) (4.13.4)\n",
            "Requirement already satisfied: filelock in /usr/local/lib/python3.11/dist-packages (from gdown) (3.18.0)\n",
            "Requirement already satisfied: requests[socks] in /usr/local/lib/python3.11/dist-packages (from gdown) (2.32.3)\n",
            "Requirement already satisfied: tqdm in /usr/local/lib/python3.11/dist-packages (from gdown) (4.67.1)\n",
            "Requirement already satisfied: soupsieve>1.2 in /usr/local/lib/python3.11/dist-packages (from beautifulsoup4->gdown) (2.7)\n",
            "Requirement already satisfied: typing-extensions>=4.0.0 in /usr/local/lib/python3.11/dist-packages (from beautifulsoup4->gdown) (4.14.1)\n",
            "Requirement already satisfied: charset-normalizer<4,>=2 in /usr/local/lib/python3.11/dist-packages (from requests[socks]->gdown) (3.4.2)\n",
            "Requirement already satisfied: idna<4,>=2.5 in /usr/local/lib/python3.11/dist-packages (from requests[socks]->gdown) (3.10)\n",
            "Requirement already satisfied: urllib3<3,>=1.21.1 in /usr/local/lib/python3.11/dist-packages (from requests[socks]->gdown) (2.5.0)\n",
            "Requirement already satisfied: certifi>=2017.4.17 in /usr/local/lib/python3.11/dist-packages (from requests[socks]->gdown) (2025.7.14)\n",
            "Requirement already satisfied: PySocks!=1.5.7,>=1.5.6 in /usr/local/lib/python3.11/dist-packages (from requests[socks]->gdown) (1.7.1)\n",
            "/usr/local/lib/python3.11/dist-packages/gdown/__main__.py:140: FutureWarning: Option `--id` was deprecated in version 4.3.1 and will be removed in 5.0. You don't need to pass it anymore to use a file ID.\n",
            "  warnings.warn(\n",
            "Downloading...\n",
            "From (original): https://drive.google.com/uc?id=1pS1hl9Iw5Y1jaFIQvQjzMyH-7P_2mQpF\n",
            "From (redirected): https://drive.google.com/uc?id=1pS1hl9Iw5Y1jaFIQvQjzMyH-7P_2mQpF&confirm=t&uuid=ad76c0e2-5e74-4a42-9cbe-04d232291dde\n",
            "To: /content/freecodecamp_casual_chatroom.csv\n",
            "100% 2.69G/2.69G [00:33<00:00, 79.3MB/s]\n"
          ]
        },
        {
          "output_type": "stream",
          "name": "stderr",
          "text": [
            "/tmp/ipython-input-4070778912.py:5: DtypeWarning: Columns (3,9,10) have mixed types. Specify dtype option on import or set low_memory=False.\n",
            "  df = pd.read_csv(data_path)\n"
          ]
        },
        {
          "output_type": "display_data",
          "data": {
            "text/plain": [
              "   Unnamed: 0 editedAt  fromUser fromUser.avatarUrl  \\\n",
              "0           0      NaN       NaN                NaN   \n",
              "1           1      NaN       NaN                NaN   \n",
              "2           2      NaN       NaN                NaN   \n",
              "3           3      NaN       NaN                NaN   \n",
              "4           4      NaN       NaN                NaN   \n",
              "\n",
              "                            fromUser.avatarUrlMedium  \\\n",
              "0  https://avatars2.githubusercontent.com/u/21996...   \n",
              "1  https://avatars0.githubusercontent.com/u/10361...   \n",
              "2  https://avatars0.githubusercontent.com/u/10361...   \n",
              "3  https://avatars2.githubusercontent.com/u/21996...   \n",
              "4  https://avatars0.githubusercontent.com/u/42194...   \n",
              "\n",
              "                             fromUser.avatarUrlSmall fromUser.displayName  \\\n",
              "0  https://avatars2.githubusercontent.com/u/21996...       Charles Watson   \n",
              "1  https://avatars0.githubusercontent.com/u/10361...      janetwalters008   \n",
              "2  https://avatars0.githubusercontent.com/u/10361...      janetwalters008   \n",
              "3  https://avatars2.githubusercontent.com/u/21996...       Charles Watson   \n",
              "4  https://avatars0.githubusercontent.com/u/42194...         Paul Gilliam   \n",
              "\n",
              "   fromUser.gv               fromUser.id fromUser.removed  ... issues  \\\n",
              "0          3.0  546fd99cdb8155e6700d6ec8              NaN  ...     []   \n",
              "1          NaN  54a47e0cdb8155e6700e486e              NaN  ...     []   \n",
              "2          NaN  54a47e0cdb8155e6700e486e              NaN  ...     []   \n",
              "3          3.0  546fd99cdb8155e6700d6ec8              NaN  ...     []   \n",
              "4          3.0  54a44bbbdb8155e6700e47de              NaN  ...     []   \n",
              "\n",
              "                                            mentions meta  readBy  \\\n",
              "0                                                 []   []      22   \n",
              "1                                                 []   []      21   \n",
              "2                                                 []   []      21   \n",
              "3  [{'userIds': [], 'userId': '54a47e0cdb8155e670...   []      22   \n",
              "4                                                 []   []      22   \n",
              "\n",
              "                       sent status  \\\n",
              "0  2014-12-31T23:01:35.647Z    NaN   \n",
              "1  2014-12-31T23:02:51.600Z    NaN   \n",
              "2  2014-12-31T23:03:14.221Z    NaN   \n",
              "3  2014-12-31T23:03:20.182Z    NaN   \n",
              "4  2014-12-31T23:03:38.388Z    NaN   \n",
              "\n",
              "                                                text unread urls  v  \n",
              "0                                  no legumes either  False   []  1  \n",
              "1            That bullet proof coffee sounds insane.  False   []  1  \n",
              "2                            That guy has huge eyes.  False   []  1  \n",
              "3  @janetwalters008 It is. but it works. some peo...  False   []  1  \n",
              "4  They guy that came up with the idea is kind of...  False   []  1  \n",
              "\n",
              "[5 rows x 26 columns]"
            ],
            "text/html": [
              "\n",
              "  <div id=\"df-f5d37449-7220-446c-98c2-3386334c55b3\" class=\"colab-df-container\">\n",
              "    <div>\n",
              "<style scoped>\n",
              "    .dataframe tbody tr th:only-of-type {\n",
              "        vertical-align: middle;\n",
              "    }\n",
              "\n",
              "    .dataframe tbody tr th {\n",
              "        vertical-align: top;\n",
              "    }\n",
              "\n",
              "    .dataframe thead th {\n",
              "        text-align: right;\n",
              "    }\n",
              "</style>\n",
              "<table border=\"1\" class=\"dataframe\">\n",
              "  <thead>\n",
              "    <tr style=\"text-align: right;\">\n",
              "      <th></th>\n",
              "      <th>Unnamed: 0</th>\n",
              "      <th>editedAt</th>\n",
              "      <th>fromUser</th>\n",
              "      <th>fromUser.avatarUrl</th>\n",
              "      <th>fromUser.avatarUrlMedium</th>\n",
              "      <th>fromUser.avatarUrlSmall</th>\n",
              "      <th>fromUser.displayName</th>\n",
              "      <th>fromUser.gv</th>\n",
              "      <th>fromUser.id</th>\n",
              "      <th>fromUser.removed</th>\n",
              "      <th>...</th>\n",
              "      <th>issues</th>\n",
              "      <th>mentions</th>\n",
              "      <th>meta</th>\n",
              "      <th>readBy</th>\n",
              "      <th>sent</th>\n",
              "      <th>status</th>\n",
              "      <th>text</th>\n",
              "      <th>unread</th>\n",
              "      <th>urls</th>\n",
              "      <th>v</th>\n",
              "    </tr>\n",
              "  </thead>\n",
              "  <tbody>\n",
              "    <tr>\n",
              "      <th>0</th>\n",
              "      <td>0</td>\n",
              "      <td>NaN</td>\n",
              "      <td>NaN</td>\n",
              "      <td>NaN</td>\n",
              "      <td>https://avatars2.githubusercontent.com/u/21996...</td>\n",
              "      <td>https://avatars2.githubusercontent.com/u/21996...</td>\n",
              "      <td>Charles Watson</td>\n",
              "      <td>3.0</td>\n",
              "      <td>546fd99cdb8155e6700d6ec8</td>\n",
              "      <td>NaN</td>\n",
              "      <td>...</td>\n",
              "      <td>[]</td>\n",
              "      <td>[]</td>\n",
              "      <td>[]</td>\n",
              "      <td>22</td>\n",
              "      <td>2014-12-31T23:01:35.647Z</td>\n",
              "      <td>NaN</td>\n",
              "      <td>no legumes either</td>\n",
              "      <td>False</td>\n",
              "      <td>[]</td>\n",
              "      <td>1</td>\n",
              "    </tr>\n",
              "    <tr>\n",
              "      <th>1</th>\n",
              "      <td>1</td>\n",
              "      <td>NaN</td>\n",
              "      <td>NaN</td>\n",
              "      <td>NaN</td>\n",
              "      <td>https://avatars0.githubusercontent.com/u/10361...</td>\n",
              "      <td>https://avatars0.githubusercontent.com/u/10361...</td>\n",
              "      <td>janetwalters008</td>\n",
              "      <td>NaN</td>\n",
              "      <td>54a47e0cdb8155e6700e486e</td>\n",
              "      <td>NaN</td>\n",
              "      <td>...</td>\n",
              "      <td>[]</td>\n",
              "      <td>[]</td>\n",
              "      <td>[]</td>\n",
              "      <td>21</td>\n",
              "      <td>2014-12-31T23:02:51.600Z</td>\n",
              "      <td>NaN</td>\n",
              "      <td>That bullet proof coffee sounds insane.</td>\n",
              "      <td>False</td>\n",
              "      <td>[]</td>\n",
              "      <td>1</td>\n",
              "    </tr>\n",
              "    <tr>\n",
              "      <th>2</th>\n",
              "      <td>2</td>\n",
              "      <td>NaN</td>\n",
              "      <td>NaN</td>\n",
              "      <td>NaN</td>\n",
              "      <td>https://avatars0.githubusercontent.com/u/10361...</td>\n",
              "      <td>https://avatars0.githubusercontent.com/u/10361...</td>\n",
              "      <td>janetwalters008</td>\n",
              "      <td>NaN</td>\n",
              "      <td>54a47e0cdb8155e6700e486e</td>\n",
              "      <td>NaN</td>\n",
              "      <td>...</td>\n",
              "      <td>[]</td>\n",
              "      <td>[]</td>\n",
              "      <td>[]</td>\n",
              "      <td>21</td>\n",
              "      <td>2014-12-31T23:03:14.221Z</td>\n",
              "      <td>NaN</td>\n",
              "      <td>That guy has huge eyes.</td>\n",
              "      <td>False</td>\n",
              "      <td>[]</td>\n",
              "      <td>1</td>\n",
              "    </tr>\n",
              "    <tr>\n",
              "      <th>3</th>\n",
              "      <td>3</td>\n",
              "      <td>NaN</td>\n",
              "      <td>NaN</td>\n",
              "      <td>NaN</td>\n",
              "      <td>https://avatars2.githubusercontent.com/u/21996...</td>\n",
              "      <td>https://avatars2.githubusercontent.com/u/21996...</td>\n",
              "      <td>Charles Watson</td>\n",
              "      <td>3.0</td>\n",
              "      <td>546fd99cdb8155e6700d6ec8</td>\n",
              "      <td>NaN</td>\n",
              "      <td>...</td>\n",
              "      <td>[]</td>\n",
              "      <td>[{'userIds': [], 'userId': '54a47e0cdb8155e670...</td>\n",
              "      <td>[]</td>\n",
              "      <td>22</td>\n",
              "      <td>2014-12-31T23:03:20.182Z</td>\n",
              "      <td>NaN</td>\n",
              "      <td>@janetwalters008 It is. but it works. some peo...</td>\n",
              "      <td>False</td>\n",
              "      <td>[]</td>\n",
              "      <td>1</td>\n",
              "    </tr>\n",
              "    <tr>\n",
              "      <th>4</th>\n",
              "      <td>4</td>\n",
              "      <td>NaN</td>\n",
              "      <td>NaN</td>\n",
              "      <td>NaN</td>\n",
              "      <td>https://avatars0.githubusercontent.com/u/42194...</td>\n",
              "      <td>https://avatars0.githubusercontent.com/u/42194...</td>\n",
              "      <td>Paul Gilliam</td>\n",
              "      <td>3.0</td>\n",
              "      <td>54a44bbbdb8155e6700e47de</td>\n",
              "      <td>NaN</td>\n",
              "      <td>...</td>\n",
              "      <td>[]</td>\n",
              "      <td>[]</td>\n",
              "      <td>[]</td>\n",
              "      <td>22</td>\n",
              "      <td>2014-12-31T23:03:38.388Z</td>\n",
              "      <td>NaN</td>\n",
              "      <td>They guy that came up with the idea is kind of...</td>\n",
              "      <td>False</td>\n",
              "      <td>[]</td>\n",
              "      <td>1</td>\n",
              "    </tr>\n",
              "  </tbody>\n",
              "</table>\n",
              "<p>5 rows × 26 columns</p>\n",
              "</div>\n",
              "    <div class=\"colab-df-buttons\">\n",
              "\n",
              "  <div class=\"colab-df-container\">\n",
              "    <button class=\"colab-df-convert\" onclick=\"convertToInteractive('df-f5d37449-7220-446c-98c2-3386334c55b3')\"\n",
              "            title=\"Convert this dataframe to an interactive table.\"\n",
              "            style=\"display:none;\">\n",
              "\n",
              "  <svg xmlns=\"http://www.w3.org/2000/svg\" height=\"24px\" viewBox=\"0 -960 960 960\">\n",
              "    <path d=\"M120-120v-720h720v720H120Zm60-500h600v-160H180v160Zm220 220h160v-160H400v160Zm0 220h160v-160H400v160ZM180-400h160v-160H180v160Zm440 0h160v-160H620v160ZM180-180h160v-160H180v160Zm440 0h160v-160H620v160Z\"/>\n",
              "  </svg>\n",
              "    </button>\n",
              "\n",
              "  <style>\n",
              "    .colab-df-container {\n",
              "      display:flex;\n",
              "      gap: 12px;\n",
              "    }\n",
              "\n",
              "    .colab-df-convert {\n",
              "      background-color: #E8F0FE;\n",
              "      border: none;\n",
              "      border-radius: 50%;\n",
              "      cursor: pointer;\n",
              "      display: none;\n",
              "      fill: #1967D2;\n",
              "      height: 32px;\n",
              "      padding: 0 0 0 0;\n",
              "      width: 32px;\n",
              "    }\n",
              "\n",
              "    .colab-df-convert:hover {\n",
              "      background-color: #E2EBFA;\n",
              "      box-shadow: 0px 1px 2px rgba(60, 64, 67, 0.3), 0px 1px 3px 1px rgba(60, 64, 67, 0.15);\n",
              "      fill: #174EA6;\n",
              "    }\n",
              "\n",
              "    .colab-df-buttons div {\n",
              "      margin-bottom: 4px;\n",
              "    }\n",
              "\n",
              "    [theme=dark] .colab-df-convert {\n",
              "      background-color: #3B4455;\n",
              "      fill: #D2E3FC;\n",
              "    }\n",
              "\n",
              "    [theme=dark] .colab-df-convert:hover {\n",
              "      background-color: #434B5C;\n",
              "      box-shadow: 0px 1px 3px 1px rgba(0, 0, 0, 0.15);\n",
              "      filter: drop-shadow(0px 1px 2px rgba(0, 0, 0, 0.3));\n",
              "      fill: #FFFFFF;\n",
              "    }\n",
              "  </style>\n",
              "\n",
              "    <script>\n",
              "      const buttonEl =\n",
              "        document.querySelector('#df-f5d37449-7220-446c-98c2-3386334c55b3 button.colab-df-convert');\n",
              "      buttonEl.style.display =\n",
              "        google.colab.kernel.accessAllowed ? 'block' : 'none';\n",
              "\n",
              "      async function convertToInteractive(key) {\n",
              "        const element = document.querySelector('#df-f5d37449-7220-446c-98c2-3386334c55b3');\n",
              "        const dataTable =\n",
              "          await google.colab.kernel.invokeFunction('convertToInteractive',\n",
              "                                                    [key], {});\n",
              "        if (!dataTable) return;\n",
              "\n",
              "        const docLinkHtml = 'Like what you see? Visit the ' +\n",
              "          '<a target=\"_blank\" href=https://colab.research.google.com/notebooks/data_table.ipynb>data table notebook</a>'\n",
              "          + ' to learn more about interactive tables.';\n",
              "        element.innerHTML = '';\n",
              "        dataTable['output_type'] = 'display_data';\n",
              "        await google.colab.output.renderOutput(dataTable, element);\n",
              "        const docLink = document.createElement('div');\n",
              "        docLink.innerHTML = docLinkHtml;\n",
              "        element.appendChild(docLink);\n",
              "      }\n",
              "    </script>\n",
              "  </div>\n",
              "\n",
              "\n",
              "    <div id=\"df-f32b9298-34d9-4658-a117-6e06f471f4d1\">\n",
              "      <button class=\"colab-df-quickchart\" onclick=\"quickchart('df-f32b9298-34d9-4658-a117-6e06f471f4d1')\"\n",
              "                title=\"Suggest charts\"\n",
              "                style=\"display:none;\">\n",
              "\n",
              "<svg xmlns=\"http://www.w3.org/2000/svg\" height=\"24px\"viewBox=\"0 0 24 24\"\n",
              "     width=\"24px\">\n",
              "    <g>\n",
              "        <path d=\"M19 3H5c-1.1 0-2 .9-2 2v14c0 1.1.9 2 2 2h14c1.1 0 2-.9 2-2V5c0-1.1-.9-2-2-2zM9 17H7v-7h2v7zm4 0h-2V7h2v10zm4 0h-2v-4h2v4z\"/>\n",
              "    </g>\n",
              "</svg>\n",
              "      </button>\n",
              "\n",
              "<style>\n",
              "  .colab-df-quickchart {\n",
              "      --bg-color: #E8F0FE;\n",
              "      --fill-color: #1967D2;\n",
              "      --hover-bg-color: #E2EBFA;\n",
              "      --hover-fill-color: #174EA6;\n",
              "      --disabled-fill-color: #AAA;\n",
              "      --disabled-bg-color: #DDD;\n",
              "  }\n",
              "\n",
              "  [theme=dark] .colab-df-quickchart {\n",
              "      --bg-color: #3B4455;\n",
              "      --fill-color: #D2E3FC;\n",
              "      --hover-bg-color: #434B5C;\n",
              "      --hover-fill-color: #FFFFFF;\n",
              "      --disabled-bg-color: #3B4455;\n",
              "      --disabled-fill-color: #666;\n",
              "  }\n",
              "\n",
              "  .colab-df-quickchart {\n",
              "    background-color: var(--bg-color);\n",
              "    border: none;\n",
              "    border-radius: 50%;\n",
              "    cursor: pointer;\n",
              "    display: none;\n",
              "    fill: var(--fill-color);\n",
              "    height: 32px;\n",
              "    padding: 0;\n",
              "    width: 32px;\n",
              "  }\n",
              "\n",
              "  .colab-df-quickchart:hover {\n",
              "    background-color: var(--hover-bg-color);\n",
              "    box-shadow: 0 1px 2px rgba(60, 64, 67, 0.3), 0 1px 3px 1px rgba(60, 64, 67, 0.15);\n",
              "    fill: var(--button-hover-fill-color);\n",
              "  }\n",
              "\n",
              "  .colab-df-quickchart-complete:disabled,\n",
              "  .colab-df-quickchart-complete:disabled:hover {\n",
              "    background-color: var(--disabled-bg-color);\n",
              "    fill: var(--disabled-fill-color);\n",
              "    box-shadow: none;\n",
              "  }\n",
              "\n",
              "  .colab-df-spinner {\n",
              "    border: 2px solid var(--fill-color);\n",
              "    border-color: transparent;\n",
              "    border-bottom-color: var(--fill-color);\n",
              "    animation:\n",
              "      spin 1s steps(1) infinite;\n",
              "  }\n",
              "\n",
              "  @keyframes spin {\n",
              "    0% {\n",
              "      border-color: transparent;\n",
              "      border-bottom-color: var(--fill-color);\n",
              "      border-left-color: var(--fill-color);\n",
              "    }\n",
              "    20% {\n",
              "      border-color: transparent;\n",
              "      border-left-color: var(--fill-color);\n",
              "      border-top-color: var(--fill-color);\n",
              "    }\n",
              "    30% {\n",
              "      border-color: transparent;\n",
              "      border-left-color: var(--fill-color);\n",
              "      border-top-color: var(--fill-color);\n",
              "      border-right-color: var(--fill-color);\n",
              "    }\n",
              "    40% {\n",
              "      border-color: transparent;\n",
              "      border-right-color: var(--fill-color);\n",
              "      border-top-color: var(--fill-color);\n",
              "    }\n",
              "    60% {\n",
              "      border-color: transparent;\n",
              "      border-right-color: var(--fill-color);\n",
              "    }\n",
              "    80% {\n",
              "      border-color: transparent;\n",
              "      border-right-color: var(--fill-color);\n",
              "      border-bottom-color: var(--fill-color);\n",
              "    }\n",
              "    90% {\n",
              "      border-color: transparent;\n",
              "      border-bottom-color: var(--fill-color);\n",
              "    }\n",
              "  }\n",
              "</style>\n",
              "\n",
              "      <script>\n",
              "        async function quickchart(key) {\n",
              "          const quickchartButtonEl =\n",
              "            document.querySelector('#' + key + ' button');\n",
              "          quickchartButtonEl.disabled = true;  // To prevent multiple clicks.\n",
              "          quickchartButtonEl.classList.add('colab-df-spinner');\n",
              "          try {\n",
              "            const charts = await google.colab.kernel.invokeFunction(\n",
              "                'suggestCharts', [key], {});\n",
              "          } catch (error) {\n",
              "            console.error('Error during call to suggestCharts:', error);\n",
              "          }\n",
              "          quickchartButtonEl.classList.remove('colab-df-spinner');\n",
              "          quickchartButtonEl.classList.add('colab-df-quickchart-complete');\n",
              "        }\n",
              "        (() => {\n",
              "          let quickchartButtonEl =\n",
              "            document.querySelector('#df-f32b9298-34d9-4658-a117-6e06f471f4d1 button');\n",
              "          quickchartButtonEl.style.display =\n",
              "            google.colab.kernel.accessAllowed ? 'block' : 'none';\n",
              "        })();\n",
              "      </script>\n",
              "    </div>\n",
              "    </div>\n",
              "  </div>\n"
            ],
            "application/vnd.google.colaboratory.intrinsic+json": {
              "type": "dataframe"
            }
          },
          "metadata": {}
        }
      ],
      "source": [
        "!pip install gdown\n",
        "!gdown --id 1pS1hl9Iw5Y1jaFIQvQjzMyH-7P_2mQpF --output freecodecamp_casual_chatroom.csv\n",
        "\n",
        "data_path = Path(\"freecodecamp_casual_chatroom.csv\")\n",
        "df = pd.read_csv(data_path)\n",
        "\n",
        "# Quick sanity-check\n",
        "display(df.head())\n"
      ]
    },
    {
      "cell_type": "markdown",
      "metadata": {
        "id": "_tnnlXJtbxMJ"
      },
      "source": [
        "## 1.3 | Basic Cleaning\n",
        "\n",
        "#### Keep only non-bot rows, drop missing messages, and lowercase everything.\n"
      ]
    },
    {
      "cell_type": "code",
      "execution_count": 8,
      "metadata": {
        "id": "BPfzPooeb0Id",
        "colab": {
          "base_uri": "https://localhost:8080/"
        },
        "outputId": "81333852-689b-4208-cdd7-f1789f488ac4"
      },
      "outputs": [
        {
          "output_type": "stream",
          "name": "stdout",
          "text": [
            "Kept 4,615,073 messages after bot-filtering\n"
          ]
        }
      ],
      "source": [
        "# 1.3-a) identify bot rows  ➜  tweak the substring as needed\n",
        "bot_mask = (\n",
        "    df[\"fromUser.username\"]\n",
        "      .fillna(\"\")                     # make sure NaNs don’t error out\n",
        "      .str.contains(\"bot\", case=False)\n",
        ")\n",
        "\n",
        "# 1.3-b) extract & clean the messages\n",
        "messages = (\n",
        "    df.loc[~bot_mask, \"text\"]         # keep rows that are NOT bots\n",
        "      .dropna()                       # remove NaNs\n",
        "      .str.lower()                    # normalize case\n",
        ")\n",
        "\n",
        "print(f\"Kept {len(messages):,} messages after bot-filtering\")\n"
      ]
    },
    {
      "cell_type": "markdown",
      "metadata": {
        "id": "ZpCDp4hgchhz"
      },
      "source": [
        "## 1.4 | Build One Large Corpus String\n",
        "#### Join all cleaned messages into a single text blob—handy for character-level work."
      ]
    },
    {
      "cell_type": "code",
      "execution_count": 9,
      "metadata": {
        "id": "pMMlf9sfclK7",
        "colab": {
          "base_uri": "https://localhost:8080/"
        },
        "outputId": "dae9bea7-759f-4c4d-99e8-725ac0fdd53c"
      },
      "outputs": [
        {
          "output_type": "stream",
          "name": "stdout",
          "text": [
            "Corpus length (characters): 273,562,174\n"
          ]
        }
      ],
      "source": [
        "corpus_text = \"\\n\".join(messages.tolist())\n",
        "print(f\"Corpus length (characters): {len(corpus_text):,}\")\n"
      ]
    },
    {
      "cell_type": "markdown",
      "metadata": {
        "id": "QNhKDar5c6fW"
      },
      "source": [
        "## 1.5 | Extract Unique Characters\n",
        "#### Create a sorted list of every character that appears at least once."
      ]
    },
    {
      "cell_type": "code",
      "execution_count": 10,
      "metadata": {
        "id": "2uG757TBc_7A",
        "colab": {
          "base_uri": "https://localhost:8080/"
        },
        "outputId": "71f421b8-4fd6-48cd-e196-44b572ef311f"
      },
      "outputs": [
        {
          "output_type": "stream",
          "name": "stdout",
          "text": [
            "Detected 4797 unique characters:\n",
            "['\\x01', '\\x02', '\\x03', '\\x04', '\\x05', '\\x06', '\\x07', '\\x08', '\\t', '\\n', '\\x0b', '\\x0c', '\\r', '\\x0e', '\\x0f', '\\x10', '\\x11', '\\x12', '\\x13', '\\x14', '\\x15', '\\x16', '\\x17', '\\x18', '\\x19', '\\x1a', '\\x1b', '\\x1c', '\\x1d', '\\x1e', '\\x1f', ' ', '!', '\"', '#', '$', '%', '&', \"'\", '(', ')', '*', '+', ',', '-', '.', '/', '0', '1', '2', '3', '4', '5', '6', '7', '8', '9', ':', ';', '<', '=', '>', '?', '@', '[', '\\\\', ']', '^', '_', '`', 'a', 'b', 'c', 'd', 'e', 'f', 'g', 'h', 'i', 'j', 'k', 'l', 'm', 'n', 'o', 'p', 'q', 'r', 's', 't', 'u', 'v', 'w', 'x', 'y', 'z', '{', '|', '}', '~', '\\x7f', '\\x81', '\\x8d', '\\x90', '\\x92', '\\x95', '\\xa0', '¡', '¢', '£', '¤', '¥', '¦', '§', '¨', '©', 'ª', '«', '¬', '\\xad']\n"
          ]
        }
      ],
      "source": [
        "unique_chars = sorted(set(corpus_text))\n",
        "print(f\"Detected {len(unique_chars)} unique characters:\")\n",
        "print(unique_chars[:120])   # preview first few\n"
      ]
    },
    {
      "cell_type": "markdown",
      "metadata": {
        "id": "XfZdOGX6dEpp"
      },
      "source": [
        "## 1.6 | Create Char ⇄ Index Mappings\n",
        "#### Two dictionaries: char_indices (char→int) and indices_char (int→char)."
      ]
    },
    {
      "cell_type": "code",
      "execution_count": 11,
      "metadata": {
        "id": "QL4yCnuSdQyy"
      },
      "outputs": [],
      "source": [
        "char_indices = {ch: i for i, ch in enumerate(unique_chars)}\n",
        "indices_char = {i: ch for ch, i in char_indices.items()}\n"
      ]
    },
    {
      "cell_type": "markdown",
      "metadata": {
        "id": "jHgFWChDfAhQ"
      },
      "source": [
        "# Step 2: Sequence Generation and Vectorization"
      ]
    },
    {
      "cell_type": "markdown",
      "metadata": {
        "id": "qY3AHf6JfFB4"
      },
      "source": [
        "## 2.1 | Choose Hyper-parameters maxlen & step\n",
        "#### ``maxlen`` is the length (in characters) of each training sequence;\n",
        "#### ``step`` controls how far the sliding window moves.\n",
        "#### Feel free to tweak; 40/3 is a classic starting point for chat-like data."
      ]
    },
    {
      "cell_type": "code",
      "execution_count": 12,
      "metadata": {
        "id": "cx-gRLsjfQxE",
        "colab": {
          "base_uri": "https://localhost:8080/"
        },
        "outputId": "d35219e2-f02c-4e22-d87c-d2bf7ccb7a20"
      },
      "outputs": [
        {
          "output_type": "stream",
          "name": "stdout",
          "text": [
            "Config  • maxlen=40  • step=8  • batch_size=4096\n"
          ]
        }
      ],
      "source": [
        "maxlen      = 40        # keep or tweak as you like\n",
        "step        = 8         # larger stride ⇒ ~⅓ training samples vs. step=3\n",
        "batch_size  = 4096      # on a Colab T4/V100 this still fits easily (< 3 GB)\n",
        "\n",
        "print(f\"Config  • maxlen={maxlen}  • step={step}  • batch_size={batch_size}\")\n"
      ]
    },
    {
      "cell_type": "markdown",
      "metadata": {
        "id": "7wHg0eEefVbU"
      },
      "source": [
        "## 2.2 | Memory-Friendly Data Generator\n",
        "#### Build a *tf.keras.utils.Sequence* that yields one batch at a time ― nothing huge stays in RAM."
      ]
    },
    {
      "cell_type": "code",
      "execution_count": 13,
      "metadata": {
        "id": "wGqyIJUMf0C3"
      },
      "outputs": [],
      "source": [
        "class CharSequenceGenerator(tf.keras.utils.Sequence):\n",
        "    \"\"\"\n",
        "    Generates (X, y) batches for character-level language modelling.\n",
        "    X shape: (batch_size, maxlen)   dtype uint16\n",
        "    y shape: (batch_size,)          dtype uint16\n",
        "    \"\"\"\n",
        "    def __init__(self, text, char_indices, maxlen, step, batch_size=1024):\n",
        "        self.text         = text\n",
        "        self.char_indices = char_indices\n",
        "        self.maxlen       = maxlen\n",
        "        self.step         = step\n",
        "        self.batch_size   = batch_size\n",
        "\n",
        "        # -- pre-compute all start positions once\n",
        "        self.starts = np.arange(0, len(text) - maxlen, step, dtype=np.int32)\n",
        "\n",
        "    def __len__(self):\n",
        "        return int(np.ceil(len(self.starts) / self.batch_size))\n",
        "\n",
        "    def __getitem__(self, idx):\n",
        "        batch_starts = self.starts[\n",
        "            idx * self.batch_size : (idx + 1) * self.batch_size]\n",
        "\n",
        "        X = np.zeros((len(batch_starts), self.maxlen), dtype=np.uint16)\n",
        "        y = np.zeros((len(batch_starts),),              dtype=np.uint16)\n",
        "\n",
        "        for i, s in enumerate(batch_starts):\n",
        "            window     = self.text[s : s + self.maxlen]\n",
        "            next_char  = self.text[s + self.maxlen]\n",
        "\n",
        "            X[i] = [self.char_indices[ch] for ch in window]\n",
        "            y[i] = self.char_indices[next_char]\n",
        "\n",
        "        return X, y\n"
      ]
    },
    {
      "cell_type": "markdown",
      "metadata": {
        "id": "QwvIZHJqf3tH"
      },
      "source": [
        "## 2.3 | Instantiate the Generator\n",
        "#### Creates ~zero extra RAM; ready for Keras fit().\n"
      ]
    },
    {
      "cell_type": "code",
      "execution_count": 14,
      "metadata": {
        "id": "kUgR5NI_ggBA",
        "colab": {
          "base_uri": "https://localhost:8080/"
        },
        "outputId": "d19d1bbf-0c57-4c35-d24a-dccf2c30ffea"
      },
      "outputs": [
        {
          "output_type": "stream",
          "name": "stdout",
          "text": [
            "✅  train_gen ready → 8,349 batches per epoch\n"
          ]
        }
      ],
      "source": [
        "train_gen = CharSequenceGenerator(\n",
        "    text         = corpus_text,\n",
        "    char_indices = char_indices,\n",
        "    maxlen       = maxlen,\n",
        "    step         = step,\n",
        "    batch_size   = batch_size\n",
        ")\n",
        "\n",
        "print(f\"✅  train_gen ready → {len(train_gen):,} batches per epoch\")"
      ]
    },
    {
      "cell_type": "markdown",
      "metadata": {
        "id": "l9M5mlcTgsdT"
      },
      "source": [
        "## 2.4 | Sanity-check Shapes & Preview with one batch\n",
        "#### Confirm dimensions and peek at one encoded sample."
      ]
    },
    {
      "cell_type": "code",
      "execution_count": 15,
      "metadata": {
        "id": "uxlT0mkmgxv6",
        "colab": {
          "base_uri": "https://localhost:8080/"
        },
        "outputId": "d6bc3f65-c468-44d5-f5f0-c52524eb4069"
      },
      "outputs": [
        {
          "output_type": "stream",
          "name": "stdout",
          "text": [
            "Batch shapes : (4096, 40) (4096,)\n",
            "First sequence : 'no legumes either\\nthat bullet proof coff'\n",
            "Next-char label: e\n"
          ]
        }
      ],
      "source": [
        "Xb, yb = train_gen[0]\n",
        "print(\"Batch shapes :\", Xb.shape, yb.shape)      # expect (batch_size, maxlen)\n",
        "\n",
        "sample_text = ''.join(indices_char[int(i)] for i in Xb[0][:80])\n",
        "print(\"First sequence :\", repr(sample_text))\n",
        "print(\"Next-char label:\", indices_char[int(yb[0])])\n"
      ]
    },
    {
      "cell_type": "markdown",
      "metadata": {
        "id": "JNz8hyEZh4KJ"
      },
      "source": []
    },
    {
      "cell_type": "markdown",
      "metadata": {
        "id": "aeUjnE73ESfd"
      },
      "source": [
        "# Step 3: Implement, Train, and Save the LSTM Model\n",
        "#### A compact character-level LSTM with an embedding, two stacked LSTMs, dropout, and a softmax output."
      ]
    },
    {
      "cell_type": "markdown",
      "metadata": {
        "id": "BEcynJ2pEmuf"
      },
      "source": [
        "## 3.1 | Model Architecture\n",
        "#### A compact character-level LSTM with an embedding, two stacked LSTMs, dropout, and a softmax output."
      ]
    },
    {
      "cell_type": "code",
      "execution_count": 16,
      "metadata": {
        "id": "I6SGJN6JEs4t",
        "colab": {
          "base_uri": "https://localhost:8080/",
          "height": 321
        },
        "outputId": "81782e08-afd5-4d6f-e03e-5f067b357cae"
      },
      "outputs": [
        {
          "output_type": "display_data",
          "data": {
            "text/plain": [
              "\u001b[1mModel: \"sequential\"\u001b[0m\n"
            ],
            "text/html": [
              "<pre style=\"white-space:pre;overflow-x:auto;line-height:normal;font-family:Menlo,'DejaVu Sans Mono',consolas,'Courier New',monospace\"><span style=\"font-weight: bold\">Model: \"sequential\"</span>\n",
              "</pre>\n"
            ]
          },
          "metadata": {}
        },
        {
          "output_type": "display_data",
          "data": {
            "text/plain": [
              "┏━━━━━━━━━━━━━━━━━━━━━━━━━━━━━━━━━┳━━━━━━━━━━━━━━━━━━━━━━━━┳━━━━━━━━━━━━━━━┓\n",
              "┃\u001b[1m \u001b[0m\u001b[1mLayer (type)                   \u001b[0m\u001b[1m \u001b[0m┃\u001b[1m \u001b[0m\u001b[1mOutput Shape          \u001b[0m\u001b[1m \u001b[0m┃\u001b[1m \u001b[0m\u001b[1m      Param #\u001b[0m\u001b[1m \u001b[0m┃\n",
              "┡━━━━━━━━━━━━━━━━━━━━━━━━━━━━━━━━━╇━━━━━━━━━━━━━━━━━━━━━━━━╇━━━━━━━━━━━━━━━┩\n",
              "│ embedding (\u001b[38;5;33mEmbedding\u001b[0m)           │ (\u001b[38;5;45mNone\u001b[0m, \u001b[38;5;34m40\u001b[0m, \u001b[38;5;34m128\u001b[0m)        │       \u001b[38;5;34m614,016\u001b[0m │\n",
              "├─────────────────────────────────┼────────────────────────┼───────────────┤\n",
              "│ lstm (\u001b[38;5;33mLSTM\u001b[0m)                     │ (\u001b[38;5;45mNone\u001b[0m, \u001b[38;5;34m40\u001b[0m, \u001b[38;5;34m256\u001b[0m)        │       \u001b[38;5;34m394,240\u001b[0m │\n",
              "├─────────────────────────────────┼────────────────────────┼───────────────┤\n",
              "│ dropout (\u001b[38;5;33mDropout\u001b[0m)               │ (\u001b[38;5;45mNone\u001b[0m, \u001b[38;5;34m40\u001b[0m, \u001b[38;5;34m256\u001b[0m)        │             \u001b[38;5;34m0\u001b[0m │\n",
              "├─────────────────────────────────┼────────────────────────┼───────────────┤\n",
              "│ lstm_1 (\u001b[38;5;33mLSTM\u001b[0m)                   │ (\u001b[38;5;45mNone\u001b[0m, \u001b[38;5;34m256\u001b[0m)            │       \u001b[38;5;34m525,312\u001b[0m │\n",
              "├─────────────────────────────────┼────────────────────────┼───────────────┤\n",
              "│ dropout_1 (\u001b[38;5;33mDropout\u001b[0m)             │ (\u001b[38;5;45mNone\u001b[0m, \u001b[38;5;34m256\u001b[0m)            │             \u001b[38;5;34m0\u001b[0m │\n",
              "├─────────────────────────────────┼────────────────────────┼───────────────┤\n",
              "│ dense (\u001b[38;5;33mDense\u001b[0m)                   │ (\u001b[38;5;45mNone\u001b[0m, \u001b[38;5;34m4797\u001b[0m)           │     \u001b[38;5;34m1,232,829\u001b[0m │\n",
              "└─────────────────────────────────┴────────────────────────┴───────────────┘\n"
            ],
            "text/html": [
              "<pre style=\"white-space:pre;overflow-x:auto;line-height:normal;font-family:Menlo,'DejaVu Sans Mono',consolas,'Courier New',monospace\">┏━━━━━━━━━━━━━━━━━━━━━━━━━━━━━━━━━┳━━━━━━━━━━━━━━━━━━━━━━━━┳━━━━━━━━━━━━━━━┓\n",
              "┃<span style=\"font-weight: bold\"> Layer (type)                    </span>┃<span style=\"font-weight: bold\"> Output Shape           </span>┃<span style=\"font-weight: bold\">       Param # </span>┃\n",
              "┡━━━━━━━━━━━━━━━━━━━━━━━━━━━━━━━━━╇━━━━━━━━━━━━━━━━━━━━━━━━╇━━━━━━━━━━━━━━━┩\n",
              "│ embedding (<span style=\"color: #0087ff; text-decoration-color: #0087ff\">Embedding</span>)           │ (<span style=\"color: #00d7ff; text-decoration-color: #00d7ff\">None</span>, <span style=\"color: #00af00; text-decoration-color: #00af00\">40</span>, <span style=\"color: #00af00; text-decoration-color: #00af00\">128</span>)        │       <span style=\"color: #00af00; text-decoration-color: #00af00\">614,016</span> │\n",
              "├─────────────────────────────────┼────────────────────────┼───────────────┤\n",
              "│ lstm (<span style=\"color: #0087ff; text-decoration-color: #0087ff\">LSTM</span>)                     │ (<span style=\"color: #00d7ff; text-decoration-color: #00d7ff\">None</span>, <span style=\"color: #00af00; text-decoration-color: #00af00\">40</span>, <span style=\"color: #00af00; text-decoration-color: #00af00\">256</span>)        │       <span style=\"color: #00af00; text-decoration-color: #00af00\">394,240</span> │\n",
              "├─────────────────────────────────┼────────────────────────┼───────────────┤\n",
              "│ dropout (<span style=\"color: #0087ff; text-decoration-color: #0087ff\">Dropout</span>)               │ (<span style=\"color: #00d7ff; text-decoration-color: #00d7ff\">None</span>, <span style=\"color: #00af00; text-decoration-color: #00af00\">40</span>, <span style=\"color: #00af00; text-decoration-color: #00af00\">256</span>)        │             <span style=\"color: #00af00; text-decoration-color: #00af00\">0</span> │\n",
              "├─────────────────────────────────┼────────────────────────┼───────────────┤\n",
              "│ lstm_1 (<span style=\"color: #0087ff; text-decoration-color: #0087ff\">LSTM</span>)                   │ (<span style=\"color: #00d7ff; text-decoration-color: #00d7ff\">None</span>, <span style=\"color: #00af00; text-decoration-color: #00af00\">256</span>)            │       <span style=\"color: #00af00; text-decoration-color: #00af00\">525,312</span> │\n",
              "├─────────────────────────────────┼────────────────────────┼───────────────┤\n",
              "│ dropout_1 (<span style=\"color: #0087ff; text-decoration-color: #0087ff\">Dropout</span>)             │ (<span style=\"color: #00d7ff; text-decoration-color: #00d7ff\">None</span>, <span style=\"color: #00af00; text-decoration-color: #00af00\">256</span>)            │             <span style=\"color: #00af00; text-decoration-color: #00af00\">0</span> │\n",
              "├─────────────────────────────────┼────────────────────────┼───────────────┤\n",
              "│ dense (<span style=\"color: #0087ff; text-decoration-color: #0087ff\">Dense</span>)                   │ (<span style=\"color: #00d7ff; text-decoration-color: #00d7ff\">None</span>, <span style=\"color: #00af00; text-decoration-color: #00af00\">4797</span>)           │     <span style=\"color: #00af00; text-decoration-color: #00af00\">1,232,829</span> │\n",
              "└─────────────────────────────────┴────────────────────────┴───────────────┘\n",
              "</pre>\n"
            ]
          },
          "metadata": {}
        },
        {
          "output_type": "display_data",
          "data": {
            "text/plain": [
              "\u001b[1m Total params: \u001b[0m\u001b[38;5;34m2,766,397\u001b[0m (10.55 MB)\n"
            ],
            "text/html": [
              "<pre style=\"white-space:pre;overflow-x:auto;line-height:normal;font-family:Menlo,'DejaVu Sans Mono',consolas,'Courier New',monospace\"><span style=\"font-weight: bold\"> Total params: </span><span style=\"color: #00af00; text-decoration-color: #00af00\">2,766,397</span> (10.55 MB)\n",
              "</pre>\n"
            ]
          },
          "metadata": {}
        },
        {
          "output_type": "display_data",
          "data": {
            "text/plain": [
              "\u001b[1m Trainable params: \u001b[0m\u001b[38;5;34m2,766,397\u001b[0m (10.55 MB)\n"
            ],
            "text/html": [
              "<pre style=\"white-space:pre;overflow-x:auto;line-height:normal;font-family:Menlo,'DejaVu Sans Mono',consolas,'Courier New',monospace\"><span style=\"font-weight: bold\"> Trainable params: </span><span style=\"color: #00af00; text-decoration-color: #00af00\">2,766,397</span> (10.55 MB)\n",
              "</pre>\n"
            ]
          },
          "metadata": {}
        },
        {
          "output_type": "display_data",
          "data": {
            "text/plain": [
              "\u001b[1m Non-trainable params: \u001b[0m\u001b[38;5;34m0\u001b[0m (0.00 B)\n"
            ],
            "text/html": [
              "<pre style=\"white-space:pre;overflow-x:auto;line-height:normal;font-family:Menlo,'DejaVu Sans Mono',consolas,'Courier New',monospace\"><span style=\"font-weight: bold\"> Non-trainable params: </span><span style=\"color: #00af00; text-decoration-color: #00af00\">0</span> (0.00 B)\n",
              "</pre>\n"
            ]
          },
          "metadata": {}
        }
      ],
      "source": [
        "vocab_size  = len(unique_chars)\n",
        "embed_dim   = 128        # bigger than before\n",
        "lstm_units  = 256        # enough capacity, still fits in GPU RAM\n",
        "\n",
        "model = models.Sequential([\n",
        "    layers.Input(shape=(maxlen,)),                 # (batch, maxlen)\n",
        "    layers.Embedding(vocab_size, embed_dim),       # (batch, maxlen, embed)\n",
        "\n",
        "    layers.LSTM(lstm_units, return_sequences=True),\n",
        "    layers.Dropout(0.25),\n",
        "\n",
        "    layers.LSTM(lstm_units),\n",
        "    layers.Dropout(0.25),\n",
        "\n",
        "    layers.Dense(vocab_size, activation=\"softmax\") # (batch, vocab)\n",
        "])\n",
        "\n",
        "model.summary()\n"
      ]
    },
    {
      "cell_type": "markdown",
      "metadata": {
        "id": "yoP33f-tE3Yg"
      },
      "source": [
        "## 3.2 | Compile the Model\n",
        "Use *Adam*, *sparse_categorical_crossentropy*, and *track accuracy*."
      ]
    },
    {
      "cell_type": "code",
      "execution_count": 17,
      "metadata": {
        "id": "j_Ye97kmFB2o"
      },
      "outputs": [],
      "source": [
        "model.compile(\n",
        "    optimizer = tf.keras.optimizers.Adam(),\n",
        "    loss      = \"sparse_categorical_crossentropy\",\n",
        "    metrics   = [\"accuracy\"]\n",
        ")\n"
      ]
    },
    {
      "cell_type": "markdown",
      "metadata": {
        "id": "kt_SQTVkFFNW"
      },
      "source": [
        "## 3.3 | Training Callbacks\n",
        "#### Save weights after each epoch & stop early if val loss stops improving."
      ]
    },
    {
      "cell_type": "code",
      "execution_count": 18,
      "metadata": {
        "id": "wyVz_INUFJhb",
        "colab": {
          "base_uri": "https://localhost:8080/",
          "height": 373
        },
        "outputId": "5da43876-3185-41c0-9c2c-80c081224b6b"
      },
      "outputs": [
        {
          "output_type": "error",
          "ename": "ValueError",
          "evalue": "mount failed",
          "traceback": [
            "\u001b[0;31m---------------------------------------------------------------------------\u001b[0m",
            "\u001b[0;31mValueError\u001b[0m                                Traceback (most recent call last)",
            "\u001b[0;32m/tmp/ipython-input-3225614127.py\u001b[0m in \u001b[0;36m<cell line: 0>\u001b[0;34m()\u001b[0m\n\u001b[1;32m     25\u001b[0m \u001b[0;34m\u001b[0m\u001b[0m\n\u001b[1;32m     26\u001b[0m \u001b[0;34m\u001b[0m\u001b[0m\n\u001b[0;32m---> 27\u001b[0;31m \u001b[0mdrive\u001b[0m\u001b[0;34m.\u001b[0m\u001b[0mmount\u001b[0m\u001b[0;34m(\u001b[0m\u001b[0;34m'/content/drive'\u001b[0m\u001b[0;34m)\u001b[0m\u001b[0;34m\u001b[0m\u001b[0;34m\u001b[0m\u001b[0m\n\u001b[0m\u001b[1;32m     28\u001b[0m \u001b[0;34m\u001b[0m\u001b[0m\n\u001b[1;32m     29\u001b[0m \u001b[0mckpt_dir\u001b[0m \u001b[0;34m=\u001b[0m \u001b[0;34m'/content/drive/MyDrive/char_lstm_ckpts'\u001b[0m\u001b[0;34m\u001b[0m\u001b[0;34m\u001b[0m\u001b[0m\n",
            "\u001b[0;32m/usr/local/lib/python3.11/dist-packages/google/colab/drive.py\u001b[0m in \u001b[0;36mmount\u001b[0;34m(mountpoint, force_remount, timeout_ms, readonly)\u001b[0m\n\u001b[1;32m     98\u001b[0m \u001b[0;32mdef\u001b[0m \u001b[0mmount\u001b[0m\u001b[0;34m(\u001b[0m\u001b[0mmountpoint\u001b[0m\u001b[0;34m,\u001b[0m \u001b[0mforce_remount\u001b[0m\u001b[0;34m=\u001b[0m\u001b[0;32mFalse\u001b[0m\u001b[0;34m,\u001b[0m \u001b[0mtimeout_ms\u001b[0m\u001b[0;34m=\u001b[0m\u001b[0;36m120000\u001b[0m\u001b[0;34m,\u001b[0m \u001b[0mreadonly\u001b[0m\u001b[0;34m=\u001b[0m\u001b[0;32mFalse\u001b[0m\u001b[0;34m)\u001b[0m\u001b[0;34m:\u001b[0m\u001b[0;34m\u001b[0m\u001b[0;34m\u001b[0m\u001b[0m\n\u001b[1;32m     99\u001b[0m   \u001b[0;34m\"\"\"Mount your Google Drive at the specified mountpoint path.\"\"\"\u001b[0m\u001b[0;34m\u001b[0m\u001b[0;34m\u001b[0m\u001b[0m\n\u001b[0;32m--> 100\u001b[0;31m   return _mount(\n\u001b[0m\u001b[1;32m    101\u001b[0m       \u001b[0mmountpoint\u001b[0m\u001b[0;34m,\u001b[0m\u001b[0;34m\u001b[0m\u001b[0;34m\u001b[0m\u001b[0m\n\u001b[1;32m    102\u001b[0m       \u001b[0mforce_remount\u001b[0m\u001b[0;34m=\u001b[0m\u001b[0mforce_remount\u001b[0m\u001b[0;34m,\u001b[0m\u001b[0;34m\u001b[0m\u001b[0;34m\u001b[0m\u001b[0m\n",
            "\u001b[0;32m/usr/local/lib/python3.11/dist-packages/google/colab/drive.py\u001b[0m in \u001b[0;36m_mount\u001b[0;34m(mountpoint, force_remount, timeout_ms, ephemeral, readonly)\u001b[0m\n\u001b[1;32m    275\u001b[0m             \u001b[0;34m'https://research.google.com/colaboratory/faq.html#drive-timeout'\u001b[0m\u001b[0;34m\u001b[0m\u001b[0;34m\u001b[0m\u001b[0m\n\u001b[1;32m    276\u001b[0m         )\n\u001b[0;32m--> 277\u001b[0;31m       \u001b[0;32mraise\u001b[0m \u001b[0mValueError\u001b[0m\u001b[0;34m(\u001b[0m\u001b[0;34m'mount failed'\u001b[0m \u001b[0;34m+\u001b[0m \u001b[0mextra_reason\u001b[0m\u001b[0;34m)\u001b[0m\u001b[0;34m\u001b[0m\u001b[0;34m\u001b[0m\u001b[0m\n\u001b[0m\u001b[1;32m    278\u001b[0m     \u001b[0;32melif\u001b[0m \u001b[0mcase\u001b[0m \u001b[0;34m==\u001b[0m \u001b[0;36m4\u001b[0m\u001b[0;34m:\u001b[0m\u001b[0;34m\u001b[0m\u001b[0;34m\u001b[0m\u001b[0m\n\u001b[1;32m    279\u001b[0m       \u001b[0;31m# Terminate the DriveFS binary before killing bash.\u001b[0m\u001b[0;34m\u001b[0m\u001b[0;34m\u001b[0m\u001b[0m\n",
            "\u001b[0;31mValueError\u001b[0m: mount failed"
          ]
        }
      ],
      "source": [
        "# make sure a directory exists\n",
        "Path(\"checkpoints\").mkdir(exist_ok=True)\n",
        "\n",
        "# (A) save **full** model after every epoch\n",
        "full_ckpt_cb = ModelCheckpoint(\n",
        "    filepath          = \"checkpoints/lstm_char_epoch{epoch:02d}.keras\",\n",
        "    save_weights_only = False,          # <-- FULL model\n",
        "    save_best_only    = False,          # keep every epoch\n",
        "    monitor           = \"loss\",         # use \"val_loss\" if you have a val-set\n",
        "    verbose           = 1\n",
        ")\n",
        "\n",
        "# (B) optional safety net: auto-resume if Colab disconnects\n",
        "backup_cb = BackupAndRestore(\n",
        "    backup_dir = \"checkpoints/backup\",  # stores periodic snapshots\n",
        "    save_freq  = \"epoch\"\n",
        ")\n",
        "\n",
        "# (C) early stopping (unchanged)\n",
        "earlystop_cb = EarlyStopping(\n",
        "    monitor              = \"loss\",\n",
        "    patience             = 3,\n",
        "    restore_best_weights = True\n",
        ")\n",
        "\n",
        "\n",
        "drive.mount('/content/drive')\n",
        "\n",
        "ckpt_dir = '/content/drive/MyDrive/char_lstm_ckpts'\n",
        "\n",
        "checkpoint_cb = tf.keras.callbacks.ModelCheckpoint(\n",
        "    filepath = f\"{ckpt_dir}/lstm_epoch{{epoch:02d}}.keras\",\n",
        "    save_weights_only = False\n",
        ")\n"
      ]
    },
    {
      "cell_type": "markdown",
      "metadata": {
        "id": "qWCH54DsFRk8"
      },
      "source": [
        "## 3.4 | Train 🚀\n",
        "#### Fits directly on the memory-friendly generator.\n"
      ]
    },
    {
      "cell_type": "code",
      "execution_count": null,
      "metadata": {
        "id": "3SdMtLaaFXsF"
      },
      "outputs": [],
      "source": [
        "# ------------------------------------------------------------------\n",
        "# ⬇️ 1) Toggle: set RESUME = True if you want to continue training\n",
        "RESUME = True            # ← change to True to resume from latest .keras\n",
        "# ------------------------------------------------------------------\n",
        "\n",
        "CHECKPOINT_DIR = Path(\"checkpoints\")\n",
        "CHECKPOINT_DIR.mkdir(exist_ok=True)\n",
        "\n",
        "# ------------------------------------------------------------------\n",
        "# find the latest .keras file (e.g., lstm_char_epoch07.keras)\n",
        "latest_ckpt = None\n",
        "initial_epoch = 0\n",
        "\n",
        "if RESUME:\n",
        "    ckpt_files = sorted(\n",
        "        glob.glob(str(CHECKPOINT_DIR / \"lstm_char_epoch*.keras\"))\n",
        "    )\n",
        "    if ckpt_files:\n",
        "        latest_ckpt = ckpt_files[-1]\n",
        "        # extract epoch number with regex\n",
        "        m = re.search(r\"epoch(\\d+)\\.keras\", latest_ckpt)\n",
        "        initial_epoch = int(m.group(1)) if m else 0\n",
        "        print(f\"🔄  Resuming from {latest_ckpt} (initial_epoch={initial_epoch})\")\n",
        "        model = tf.keras.models.load_model(latest_ckpt)\n",
        "    else:\n",
        "        print(\"⚠️  No .keras checkpoint found — starting fresh\")\n",
        "\n",
        "# ------------------------------------------------------------------\n",
        "# training\n",
        "TOTAL_EPOCHS = 10   # final epoch index you want to reach\n",
        "\n",
        "history = model.fit(\n",
        "    train_gen,\n",
        "    epochs        = TOTAL_EPOCHS,\n",
        "    initial_epoch = initial_epoch,\n",
        "    callbacks     = [full_ckpt_cb, backup_cb, earlystop_cb]\n",
        ")\n"
      ]
    },
    {
      "cell_type": "markdown",
      "metadata": {
        "id": "zjFFFka2FbsB"
      },
      "source": [
        "## 3.5 | Save Final Weights & Model\n",
        "#### Weights (.h5) and the entire model (.keras) for easy reload later."
      ]
    },
    {
      "cell_type": "code",
      "execution_count": null,
      "metadata": {
        "id": "-4qfug9GFfMX"
      },
      "outputs": [],
      "source": [
        "model.save_weights(\"lstm_char_final_weights.h5\")\n",
        "model.save(\"lstm_char_model.keras\")   # full model (arch + weights)\n",
        "\n",
        "print(\"Weights saved to lstm_char_final_weights.h5\")\n",
        "print(\"Full model saved to lstm_char_model.keras\")\n"
      ]
    }
  ],
  "metadata": {
    "accelerator": "GPU",
    "colab": {
      "gpuType": "T4",
      "provenance": []
    },
    "kernelspec": {
      "display_name": "Python 3",
      "name": "python3"
    },
    "language_info": {
      "codemirror_mode": {
        "name": "ipython",
        "version": 3
      },
      "file_extension": ".py",
      "mimetype": "text/x-python",
      "name": "python",
      "nbconvert_exporter": "python",
      "pygments_lexer": "ipython3",
      "version": "3.10.12"
    }
  },
  "nbformat": 4,
  "nbformat_minor": 0
}